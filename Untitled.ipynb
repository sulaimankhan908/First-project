#this code will simply print the name age roll no and marks 
{
 "cells": [
  {
   "cell_type": "markdown",
   "id": "adfa6be8-3aba-4acd-abc3-27f4cf712e4e",
   "metadata": {},
   "source": [
    "##My forst Project\n"
   ]
  },
  {
   "cell_type": "code",
   "execution_count": 12,
   "id": "5ec008dd-6540-4227-9ff4-0f91591d9799",
   "metadata": {},
   "outputs": [
    {
     "name": "stdout",
     "output_type": "stream",
     "text": [
      "name of student is sulaiman\n",
      "the age is  61\n",
      "roll no is 100\n",
      "the marks is  56\n"
     ]
    }
   ],
   "source": [
    "\n",
    "class Person():\n",
    "    def __init__(self, name,age):\n",
    "      self.name = name\n",
    "      self.age = age\n",
    "\n",
    "    def  display(self):\n",
    "      print('name of student is',self.name)\n",
    "      print('the age is ',self.age)\n",
    "\n",
    "\n",
    "class Student(Person):\n",
    "    def __init__(self,name,age,roll,marks):\n",
    "        super().__init__(name,age)\n",
    "        self.roll = roll\n",
    "        self.marks = marks\n",
    "    def display(self):\n",
    "        super().display()\n",
    "        print('roll no is',self.roll)\n",
    "        print('the marks is ',self.marks)\n",
    "\n",
    "\n",
    "\n",
    "\n",
    "Obj1= Student(\"sulaiman\",61,100,56)\n",
    "Obj1.display()\n",
    "    \n",
    "    \n",
    "        "
   ]
  },
  {
   "cell_type": "code",
   "execution_count": null,
   "id": "cbac19e0-ae4a-446e-80fe-96837bf4f288",
   "metadata": {},
   "outputs": [],
   "source": [
    "class Person():\n",
    "  def __init__(self,name,age,subject):\n",
    "    self.name = name \n",
    "    self.age = age\n",
    "    self.subject = subject\n",
    "\n",
    "  def display(self):\n",
    "    print('The name of the student is',self.name)\n",
    "    print('the age of the student is',self.age)\n",
    "    print('subject name is ',self.subject)\n",
    "\n",
    "class Student(Person):\n",
    "   def __init__(self,name,age,subject,roll_no,Marks,total_marks):\n",
    "    super().__init__(name,age,subject)\n",
    "    self.roll_no = roll_no\n",
    "    self.marks= Marks\n",
    "    self.total_marks = total_marks\n",
    "    self.percentage = (self.marks/self.total_marks)*100\n",
    "    self.grade = self.calculate_grade()\n",
    "   def calculate_grade(self):\n",
    "      if self.percentage >=90:\n",
    "        print('the grade is A+')\n",
    "      elif self.percentage >=80 and self.percentage<=90:\n",
    "        print('the grade is B') \n",
    "      else:\n",
    "        print('you need improvement') \n",
    "   def display(self):\n",
    "      super().display()\n",
    "      print('The  roll no is ',self.roll_no)\n",
    "      print('The marks is',self.marks)\n",
    "      print('the percentage is ',self.percentage)\n",
    "      print('the grade is ',self.grade)\n",
    "\n",
    "student_list = []\n",
    "\n",
    "for i in range (2):\n",
    "  print('enter details of student',i+1)\n",
    "  x = input('Enter the Name of the student')\n",
    "  y = int(input('Enter the age of the student'))\n",
    "  z = input('Enter the subject name ')\n",
    "  j = int(input('Enter the roll number of student'))\n",
    "  k = int(input('enter the mareks '))\n",
    "  m = int(input('Enter the total marks'))\n",
    "  obj1 = Student(x,y,z,j,k,m)\n",
    "  student_list.append(obj1)\n",
    "\n",
    "for i in student_list:\n",
    "  print('********* Card REady*********')\n",
    "  i.display()\n",
    "\n",
    "\n"
   ]
  },
  {
   "cell_type": "code",
   "execution_count": null,
   "id": "e6b3d1b1-856d-4e02-a696-4ba85b4c1c6b",
   "metadata": {},
   "outputs": [],
   "source": []
  },
  {
   "cell_type": "code",
   "execution_count": null,
   "id": "d6781d0b-23ab-4fba-9c20-9e0dcff869c7",
   "metadata": {},
   "outputs": [],
   "source": []
  },
  {
   "cell_type": "code",
   "execution_count": null,
   "id": "68104a56-6da7-4398-a489-f734e441a218",
   "metadata": {},
   "outputs": [],
   "source": []
  },
  {
   "cell_type": "code",
   "execution_count": null,
   "id": "b7244986-569e-4f2e-964b-78f6a972efb9",
   "metadata": {},
   "outputs": [],
   "source": []
  }
 ],
 "metadata": {
  "kernelspec": {
   "display_name": "Python 3 (ipykernel)",
   "language": "python",
   "name": "python3"
  },
  "language_info": {
   "codemirror_mode": {
    "name": "ipython",
    "version": 3
   },
   "file_extension": ".py",
   "mimetype": "text/x-python",
   "name": "python",
   "nbconvert_exporter": "python",
   "pygments_lexer": "ipython3",
   "version": "3.13.5"
  }
 },
 "nbformat": 4,
 "nbformat_minor": 5
}
